{
 "cells": [
  {
   "cell_type": "code",
   "execution_count": 3,
   "metadata": {},
   "outputs": [],
   "source": [
    "import pandas as pd\n",
    "import plotly.express as px\n",
    "import numpy as np\n",
    "\n",
    "import plotly.io as pio\n",
    "import plotly.graph_objects as go\n",
    "pio.templates.default = \"plotly_dark\"\n",
    "\n",
    "races = pd.read_csv('data/races.csv')\n",
    "races[\"EventDate\"] = pd.to_datetime(races[\"EventDate\"])\n",
    "races[\"EventDate\"] = races[\"EventDate\"].dt.date\n",
    "races['Year'] = races['Year'].astype(str)\n",
    "\n",
    "chosen_year = '2021'\n",
    "chosen_driver = 'De Vries'\n",
    "chosen_gp = 'Bahrain Grand Prix'\n",
    "\n",
    "year_df = races[races.Year == chosen_year]\n",
    "driver_df = races.loc[races['LastName'] == chosen_driver].sort_values(by=['EventDate'])\n",
    "gp_df = races.loc[races['GP'] == chosen_gp]\n",
    "driver_year_df = driver_df.loc[driver_df['Year'] == chosen_year].sort_values(by=['EventDate'])"
   ]
  },
  {
   "cell_type": "markdown",
   "metadata": {},
   "source": [
    "# BAR GRAPHS"
   ]
  },
  {
   "cell_type": "code",
   "execution_count": null,
   "metadata": {},
   "outputs": [],
   "source": [
    "season_points = px.histogram(driver_df, x='Year', y='Points', title=f'Points by Season - {chosen_driver}', labels = {'Points':'Points', 'Year':'Season'}, color='TeamName',text_auto=True, opacity=0.9)\n",
    "season_points.show()"
   ]
  },
  {
   "cell_type": "code",
   "execution_count": null,
   "metadata": {},
   "outputs": [],
   "source": [
    "driver_yr_summary = driver_df.groupby('Year').agg(\n",
    "    TotalPoints = pd.NamedAgg(column=\"Points\", aggfunc=sum),\n",
    "    TeamName = pd.NamedAgg(column=\"TeamName\", aggfunc=max),\n",
    "    TotalRaces = pd.NamedAgg(column=\"Counter\", aggfunc=sum)\n",
    ")\n",
    "driver_yr_summary[\"AveragePoints\"] = driver_yr_summary.TotalPoints / driver_yr_summary.TotalRaces\n",
    "driver_yr_summary = driver_yr_summary.reset_index()\n",
    "\n",
    "avg_season_points = px.histogram(driver_yr_summary, x='Year', y='AveragePoints', title=f'Average Points by Season - {chosen_driver}', labels = {'Points':'Points', 'Year':'Season'}, color = \"TeamName\", text_auto=True, opacity=0.9)\n",
    "avg_season_points.show()"
   ]
  },
  {
   "cell_type": "markdown",
   "metadata": {},
   "source": [
    "# PIES"
   ]
  },
  {
   "cell_type": "code",
   "execution_count": null,
   "metadata": {},
   "outputs": [],
   "source": [
    "driver_success = px.pie(driver_df, values='Counter', names='ResultType', title=f'Race Results for Career - {chosen_driver}')\n",
    "driver_success.show()"
   ]
  },
  {
   "cell_type": "code",
   "execution_count": null,
   "metadata": {},
   "outputs": [],
   "source": [
    "driver_df_dnf = driver_df.query(\"Status != 'Finished'\").query(\"Status != '+1 Lap'\").query(\"Status != '+2 Laps'\")\n",
    "dnf_type_pie = px.pie(data_frame = driver_df_dnf, values ='Counter', names = 'Status', title=\"Most frequent cause of DNF\" )\n",
    "dnf_type_pie.show()"
   ]
  },
  {
   "cell_type": "markdown",
   "metadata": {},
   "source": [
    "# DATA TABLES"
   ]
  },
  {
   "cell_type": "code",
   "execution_count": null,
   "metadata": {},
   "outputs": [],
   "source": [
    "\n",
    "season_summary = driver_year_df[['RoundNumber', 'EventDate', 'GP', 'EventFormat', 'Location', 'Country', 'QualiStatus', 'GridPosition','ResultType', 'Status','Position', 'Points']]\n",
    "season_summary"
   ]
  },
  {
   "cell_type": "markdown",
   "metadata": {},
   "source": [
    "# GAUGE"
   ]
  },
  {
   "cell_type": "code",
   "execution_count": 44,
   "metadata": {},
   "outputs": [
    {
     "data": {
      "application/vnd.plotly.v1+json": {
       "config": {
        "plotlyServerURL": "https://plot.ly"
       },
       "data": [
        {
         "domain": {
          "x": [
           0,
           1
          ],
          "y": [
           0,
           1
          ]
         },
         "gauge": {
          "axis": {
           "range": [
            0,
            100
           ]
          }
         },
         "mode": "gauge+number",
         "number": {
          "suffix": "%"
         },
         "title": {
          "text": "% Races Completed"
         },
         "type": "indicator",
         "value": 100
        }
       ],
       "layout": {
        "template": {
         "data": {
          "bar": [
           {
            "error_x": {
             "color": "#f2f5fa"
            },
            "error_y": {
             "color": "#f2f5fa"
            },
            "marker": {
             "line": {
              "color": "rgb(17,17,17)",
              "width": 0.5
             },
             "pattern": {
              "fillmode": "overlay",
              "size": 10,
              "solidity": 0.2
             }
            },
            "type": "bar"
           }
          ],
          "barpolar": [
           {
            "marker": {
             "line": {
              "color": "rgb(17,17,17)",
              "width": 0.5
             },
             "pattern": {
              "fillmode": "overlay",
              "size": 10,
              "solidity": 0.2
             }
            },
            "type": "barpolar"
           }
          ],
          "carpet": [
           {
            "aaxis": {
             "endlinecolor": "#A2B1C6",
             "gridcolor": "#506784",
             "linecolor": "#506784",
             "minorgridcolor": "#506784",
             "startlinecolor": "#A2B1C6"
            },
            "baxis": {
             "endlinecolor": "#A2B1C6",
             "gridcolor": "#506784",
             "linecolor": "#506784",
             "minorgridcolor": "#506784",
             "startlinecolor": "#A2B1C6"
            },
            "type": "carpet"
           }
          ],
          "choropleth": [
           {
            "colorbar": {
             "outlinewidth": 0,
             "ticks": ""
            },
            "type": "choropleth"
           }
          ],
          "contour": [
           {
            "colorbar": {
             "outlinewidth": 0,
             "ticks": ""
            },
            "colorscale": [
             [
              0,
              "#0d0887"
             ],
             [
              0.1111111111111111,
              "#46039f"
             ],
             [
              0.2222222222222222,
              "#7201a8"
             ],
             [
              0.3333333333333333,
              "#9c179e"
             ],
             [
              0.4444444444444444,
              "#bd3786"
             ],
             [
              0.5555555555555556,
              "#d8576b"
             ],
             [
              0.6666666666666666,
              "#ed7953"
             ],
             [
              0.7777777777777778,
              "#fb9f3a"
             ],
             [
              0.8888888888888888,
              "#fdca26"
             ],
             [
              1,
              "#f0f921"
             ]
            ],
            "type": "contour"
           }
          ],
          "contourcarpet": [
           {
            "colorbar": {
             "outlinewidth": 0,
             "ticks": ""
            },
            "type": "contourcarpet"
           }
          ],
          "heatmap": [
           {
            "colorbar": {
             "outlinewidth": 0,
             "ticks": ""
            },
            "colorscale": [
             [
              0,
              "#0d0887"
             ],
             [
              0.1111111111111111,
              "#46039f"
             ],
             [
              0.2222222222222222,
              "#7201a8"
             ],
             [
              0.3333333333333333,
              "#9c179e"
             ],
             [
              0.4444444444444444,
              "#bd3786"
             ],
             [
              0.5555555555555556,
              "#d8576b"
             ],
             [
              0.6666666666666666,
              "#ed7953"
             ],
             [
              0.7777777777777778,
              "#fb9f3a"
             ],
             [
              0.8888888888888888,
              "#fdca26"
             ],
             [
              1,
              "#f0f921"
             ]
            ],
            "type": "heatmap"
           }
          ],
          "heatmapgl": [
           {
            "colorbar": {
             "outlinewidth": 0,
             "ticks": ""
            },
            "colorscale": [
             [
              0,
              "#0d0887"
             ],
             [
              0.1111111111111111,
              "#46039f"
             ],
             [
              0.2222222222222222,
              "#7201a8"
             ],
             [
              0.3333333333333333,
              "#9c179e"
             ],
             [
              0.4444444444444444,
              "#bd3786"
             ],
             [
              0.5555555555555556,
              "#d8576b"
             ],
             [
              0.6666666666666666,
              "#ed7953"
             ],
             [
              0.7777777777777778,
              "#fb9f3a"
             ],
             [
              0.8888888888888888,
              "#fdca26"
             ],
             [
              1,
              "#f0f921"
             ]
            ],
            "type": "heatmapgl"
           }
          ],
          "histogram": [
           {
            "marker": {
             "pattern": {
              "fillmode": "overlay",
              "size": 10,
              "solidity": 0.2
             }
            },
            "type": "histogram"
           }
          ],
          "histogram2d": [
           {
            "colorbar": {
             "outlinewidth": 0,
             "ticks": ""
            },
            "colorscale": [
             [
              0,
              "#0d0887"
             ],
             [
              0.1111111111111111,
              "#46039f"
             ],
             [
              0.2222222222222222,
              "#7201a8"
             ],
             [
              0.3333333333333333,
              "#9c179e"
             ],
             [
              0.4444444444444444,
              "#bd3786"
             ],
             [
              0.5555555555555556,
              "#d8576b"
             ],
             [
              0.6666666666666666,
              "#ed7953"
             ],
             [
              0.7777777777777778,
              "#fb9f3a"
             ],
             [
              0.8888888888888888,
              "#fdca26"
             ],
             [
              1,
              "#f0f921"
             ]
            ],
            "type": "histogram2d"
           }
          ],
          "histogram2dcontour": [
           {
            "colorbar": {
             "outlinewidth": 0,
             "ticks": ""
            },
            "colorscale": [
             [
              0,
              "#0d0887"
             ],
             [
              0.1111111111111111,
              "#46039f"
             ],
             [
              0.2222222222222222,
              "#7201a8"
             ],
             [
              0.3333333333333333,
              "#9c179e"
             ],
             [
              0.4444444444444444,
              "#bd3786"
             ],
             [
              0.5555555555555556,
              "#d8576b"
             ],
             [
              0.6666666666666666,
              "#ed7953"
             ],
             [
              0.7777777777777778,
              "#fb9f3a"
             ],
             [
              0.8888888888888888,
              "#fdca26"
             ],
             [
              1,
              "#f0f921"
             ]
            ],
            "type": "histogram2dcontour"
           }
          ],
          "mesh3d": [
           {
            "colorbar": {
             "outlinewidth": 0,
             "ticks": ""
            },
            "type": "mesh3d"
           }
          ],
          "parcoords": [
           {
            "line": {
             "colorbar": {
              "outlinewidth": 0,
              "ticks": ""
             }
            },
            "type": "parcoords"
           }
          ],
          "pie": [
           {
            "automargin": true,
            "type": "pie"
           }
          ],
          "scatter": [
           {
            "marker": {
             "line": {
              "color": "#283442"
             }
            },
            "type": "scatter"
           }
          ],
          "scatter3d": [
           {
            "line": {
             "colorbar": {
              "outlinewidth": 0,
              "ticks": ""
             }
            },
            "marker": {
             "colorbar": {
              "outlinewidth": 0,
              "ticks": ""
             }
            },
            "type": "scatter3d"
           }
          ],
          "scattercarpet": [
           {
            "marker": {
             "colorbar": {
              "outlinewidth": 0,
              "ticks": ""
             }
            },
            "type": "scattercarpet"
           }
          ],
          "scattergeo": [
           {
            "marker": {
             "colorbar": {
              "outlinewidth": 0,
              "ticks": ""
             }
            },
            "type": "scattergeo"
           }
          ],
          "scattergl": [
           {
            "marker": {
             "line": {
              "color": "#283442"
             }
            },
            "type": "scattergl"
           }
          ],
          "scattermapbox": [
           {
            "marker": {
             "colorbar": {
              "outlinewidth": 0,
              "ticks": ""
             }
            },
            "type": "scattermapbox"
           }
          ],
          "scatterpolar": [
           {
            "marker": {
             "colorbar": {
              "outlinewidth": 0,
              "ticks": ""
             }
            },
            "type": "scatterpolar"
           }
          ],
          "scatterpolargl": [
           {
            "marker": {
             "colorbar": {
              "outlinewidth": 0,
              "ticks": ""
             }
            },
            "type": "scatterpolargl"
           }
          ],
          "scatterternary": [
           {
            "marker": {
             "colorbar": {
              "outlinewidth": 0,
              "ticks": ""
             }
            },
            "type": "scatterternary"
           }
          ],
          "surface": [
           {
            "colorbar": {
             "outlinewidth": 0,
             "ticks": ""
            },
            "colorscale": [
             [
              0,
              "#0d0887"
             ],
             [
              0.1111111111111111,
              "#46039f"
             ],
             [
              0.2222222222222222,
              "#7201a8"
             ],
             [
              0.3333333333333333,
              "#9c179e"
             ],
             [
              0.4444444444444444,
              "#bd3786"
             ],
             [
              0.5555555555555556,
              "#d8576b"
             ],
             [
              0.6666666666666666,
              "#ed7953"
             ],
             [
              0.7777777777777778,
              "#fb9f3a"
             ],
             [
              0.8888888888888888,
              "#fdca26"
             ],
             [
              1,
              "#f0f921"
             ]
            ],
            "type": "surface"
           }
          ],
          "table": [
           {
            "cells": {
             "fill": {
              "color": "#506784"
             },
             "line": {
              "color": "rgb(17,17,17)"
             }
            },
            "header": {
             "fill": {
              "color": "#2a3f5f"
             },
             "line": {
              "color": "rgb(17,17,17)"
             }
            },
            "type": "table"
           }
          ]
         },
         "layout": {
          "annotationdefaults": {
           "arrowcolor": "#f2f5fa",
           "arrowhead": 0,
           "arrowwidth": 1
          },
          "autotypenumbers": "strict",
          "coloraxis": {
           "colorbar": {
            "outlinewidth": 0,
            "ticks": ""
           }
          },
          "colorscale": {
           "diverging": [
            [
             0,
             "#8e0152"
            ],
            [
             0.1,
             "#c51b7d"
            ],
            [
             0.2,
             "#de77ae"
            ],
            [
             0.3,
             "#f1b6da"
            ],
            [
             0.4,
             "#fde0ef"
            ],
            [
             0.5,
             "#f7f7f7"
            ],
            [
             0.6,
             "#e6f5d0"
            ],
            [
             0.7,
             "#b8e186"
            ],
            [
             0.8,
             "#7fbc41"
            ],
            [
             0.9,
             "#4d9221"
            ],
            [
             1,
             "#276419"
            ]
           ],
           "sequential": [
            [
             0,
             "#0d0887"
            ],
            [
             0.1111111111111111,
             "#46039f"
            ],
            [
             0.2222222222222222,
             "#7201a8"
            ],
            [
             0.3333333333333333,
             "#9c179e"
            ],
            [
             0.4444444444444444,
             "#bd3786"
            ],
            [
             0.5555555555555556,
             "#d8576b"
            ],
            [
             0.6666666666666666,
             "#ed7953"
            ],
            [
             0.7777777777777778,
             "#fb9f3a"
            ],
            [
             0.8888888888888888,
             "#fdca26"
            ],
            [
             1,
             "#f0f921"
            ]
           ],
           "sequentialminus": [
            [
             0,
             "#0d0887"
            ],
            [
             0.1111111111111111,
             "#46039f"
            ],
            [
             0.2222222222222222,
             "#7201a8"
            ],
            [
             0.3333333333333333,
             "#9c179e"
            ],
            [
             0.4444444444444444,
             "#bd3786"
            ],
            [
             0.5555555555555556,
             "#d8576b"
            ],
            [
             0.6666666666666666,
             "#ed7953"
            ],
            [
             0.7777777777777778,
             "#fb9f3a"
            ],
            [
             0.8888888888888888,
             "#fdca26"
            ],
            [
             1,
             "#f0f921"
            ]
           ]
          },
          "colorway": [
           "#636efa",
           "#EF553B",
           "#00cc96",
           "#ab63fa",
           "#FFA15A",
           "#19d3f3",
           "#FF6692",
           "#B6E880",
           "#FF97FF",
           "#FECB52"
          ],
          "font": {
           "color": "#f2f5fa"
          },
          "geo": {
           "bgcolor": "rgb(17,17,17)",
           "lakecolor": "rgb(17,17,17)",
           "landcolor": "rgb(17,17,17)",
           "showlakes": true,
           "showland": true,
           "subunitcolor": "#506784"
          },
          "hoverlabel": {
           "align": "left"
          },
          "hovermode": "closest",
          "mapbox": {
           "style": "dark"
          },
          "paper_bgcolor": "rgb(17,17,17)",
          "plot_bgcolor": "rgb(17,17,17)",
          "polar": {
           "angularaxis": {
            "gridcolor": "#506784",
            "linecolor": "#506784",
            "ticks": ""
           },
           "bgcolor": "rgb(17,17,17)",
           "radialaxis": {
            "gridcolor": "#506784",
            "linecolor": "#506784",
            "ticks": ""
           }
          },
          "scene": {
           "xaxis": {
            "backgroundcolor": "rgb(17,17,17)",
            "gridcolor": "#506784",
            "gridwidth": 2,
            "linecolor": "#506784",
            "showbackground": true,
            "ticks": "",
            "zerolinecolor": "#C8D4E3"
           },
           "yaxis": {
            "backgroundcolor": "rgb(17,17,17)",
            "gridcolor": "#506784",
            "gridwidth": 2,
            "linecolor": "#506784",
            "showbackground": true,
            "ticks": "",
            "zerolinecolor": "#C8D4E3"
           },
           "zaxis": {
            "backgroundcolor": "rgb(17,17,17)",
            "gridcolor": "#506784",
            "gridwidth": 2,
            "linecolor": "#506784",
            "showbackground": true,
            "ticks": "",
            "zerolinecolor": "#C8D4E3"
           }
          },
          "shapedefaults": {
           "line": {
            "color": "#f2f5fa"
           }
          },
          "sliderdefaults": {
           "bgcolor": "#C8D4E3",
           "bordercolor": "rgb(17,17,17)",
           "borderwidth": 1,
           "tickwidth": 0
          },
          "ternary": {
           "aaxis": {
            "gridcolor": "#506784",
            "linecolor": "#506784",
            "ticks": ""
           },
           "baxis": {
            "gridcolor": "#506784",
            "linecolor": "#506784",
            "ticks": ""
           },
           "bgcolor": "rgb(17,17,17)",
           "caxis": {
            "gridcolor": "#506784",
            "linecolor": "#506784",
            "ticks": ""
           }
          },
          "title": {
           "x": 0.05
          },
          "updatemenudefaults": {
           "bgcolor": "#506784",
           "borderwidth": 0
          },
          "xaxis": {
           "automargin": true,
           "gridcolor": "#283442",
           "linecolor": "#506784",
           "ticks": "",
           "title": {
            "standoff": 15
           },
           "zerolinecolor": "#283442",
           "zerolinewidth": 2
          },
          "yaxis": {
           "automargin": true,
           "gridcolor": "#283442",
           "linecolor": "#506784",
           "ticks": "",
           "title": {
            "standoff": 15
           },
           "zerolinecolor": "#283442",
           "zerolinewidth": 2
          }
         }
        }
       }
      }
     },
     "metadata": {},
     "output_type": "display_data"
    }
   ],
   "source": []
  },
  {
   "cell_type": "code",
   "execution_count": 41,
   "metadata": {},
   "outputs": [
    {
     "data": {
      "text/plain": [
       "1"
      ]
     },
     "execution_count": 41,
     "metadata": {},
     "output_type": "execute_result"
    }
   ],
   "source": [
    "category_races[category_races[chart_category]== \"Finished\"][\"Counter\"][0]"
   ]
  },
  {
   "cell_type": "code",
   "execution_count": null,
   "metadata": {},
   "outputs": [],
   "source": [
    "chart_category = \"Status\"\n",
    "category_races = driver_df[[chart_category, \"Counter\"]].groupby(chart_category).sum().reset_index()\n",
    "\n",
    "one_lap_added = (category_races[category_races[chart_category]== \"+1 Lap\"][\"Counter\"].values[0])\n",
    "two_lap_added = (category_races[category_races[chart_category]== \"+2 Laps\"][\"Counter\"].values[0])\n",
    "sum_completed = (category_races[category_races[chart_category]== \"Finished\"][\"Counter\"].values[0])\n",
    "data_races_completed = ((sum_completed+one_lap_added+two_lap_added)/(category_races[\"Counter\"].sum()))\n",
    "pct_completed = round(data_races_completed*100, ndigits=2)\n",
    "\n",
    "fig_races_completed = go.Figure(go.Indicator(\n",
    "    mode = \"gauge+number\",\n",
    "    value = pct_completed,\n",
    "    number = {\"suffix\": \"%\"},\n",
    "    title = {'text': \"% Races Completed\"},\n",
    "    domain = {'x': [0,1], 'y': [0,1]},\n",
    "    gauge = {'axis': {'range': [0, 100]}}\n",
    "))\n",
    "\n",
    "fig_races_completed.show()\n",
    "\n",
    "#_______________\n",
    "\n",
    "chart_category = \"ResultType\"\n",
    "category_races = driver_df[[chart_category, \"Counter\"]].groupby(chart_category).sum().reset_index()\n",
    "\n",
    "data_races_in_points = ((category_races[category_races[chart_category]!= \"NoPoints\"][\"Counter\"].values[0])/(category_races[\"Counter\"].sum()))\n",
    "pct_points = round(data_races_in_points*100, ndigits=2)\n",
    "\n",
    "fig_races_in_points = go.Figure(go.Indicator(\n",
    "    mode = \"gauge+number\",\n",
    "    value = pct_points,\n",
    "    number = {\"suffix\": \"%\"},\n",
    "    title = {'text': \"% Races in Points\"},\n",
    "    domain = {'x': [0,1], 'y': [0,1]},\n",
    "    gauge = {'axis': {'range': [0, 100]}}\n",
    "))\n",
    "\n",
    "fig_races_in_points.show()"
   ]
  },
  {
   "cell_type": "markdown",
   "metadata": {},
   "source": [
    "# KPI CARDS"
   ]
  },
  {
   "cell_type": "code",
   "execution_count": null,
   "metadata": {},
   "outputs": [],
   "source": [
    "fig_season_points = go.Figure(go.Indicator(\n",
    "    mode = \"number\",\n",
    "    value = driver_year_df[\"Points\"].sum(),\n",
    "    title = {'text': f\"Total Points for {chosen_year} season\"},\n",
    "    domain = {'x': [0,1], 'y': [0,1]}\n",
    "))\n",
    "fig_season_points.show()"
   ]
  },
  {
   "cell_type": "code",
   "execution_count": null,
   "metadata": {},
   "outputs": [],
   "source": [
    "fig_career_points = go.Figure(go.Indicator(\n",
    "    mode = \"number\",\n",
    "    value = driver_df[\"Points\"].sum(),\n",
    "    title = {'text': \"Total Points 2018-2022\"},\n",
    "    domain = {'x': [0,1], 'y': [0,1]}\n",
    "))\n",
    "fig_career_points.show()"
   ]
  },
  {
   "cell_type": "code",
   "execution_count": null,
   "metadata": {},
   "outputs": [],
   "source": [
    "fig_podiums = go.Figure(go.Indicator(\n",
    "    mode = \"number\",\n",
    "    value = driver_df.query(\"ResultType == 'Podium' or ResultType == 'Pole' \")[\"Counter\"].sum(),\n",
    "    title = {'text': \"Number of Podiums 2018-2022\"},\n",
    "    domain = {'x': [0,1], 'y': [0,1]}\n",
    "))\n",
    "fig_podiums.show()"
   ]
  },
  {
   "cell_type": "code",
   "execution_count": null,
   "metadata": {},
   "outputs": [],
   "source": [
    "fig_highest_position = go.Figure(go.Indicator(\n",
    "    mode = \"number\",\n",
    "    value = driver_df[\"Position\"].min(),\n",
    "    title = {'text': \"Highest Race Position 2018-2022\"},\n",
    "    domain = {'x': [0,1], 'y': [0,1]}\n",
    "))\n",
    "fig_highest_position.show()"
   ]
  },
  {
   "cell_type": "code",
   "execution_count": null,
   "metadata": {},
   "outputs": [],
   "source": [
    "fig_race_wins = go.Figure(go.Indicator(\n",
    "    mode = \"number\",\n",
    "    value = driver_df.query(\"Position == 1\").sum()[\"Counter\"],\n",
    "    title = {'text': \"Number of Wins 2018-2022\"},\n",
    "    domain = {'x': [0,1], 'y': [0,1]}\n",
    "))\n",
    "fig_race_wins.show()"
   ]
  },
  {
   "cell_type": "markdown",
   "metadata": {},
   "source": [
    "# SCATTER"
   ]
  },
  {
   "cell_type": "code",
   "execution_count": null,
   "metadata": {},
   "outputs": [],
   "source": [
    "\n",
    "fig_pos_scatter = px.scatter(\n",
    "    data_frame = driver_df,\n",
    "    x = \"GridPosition\",\n",
    "    y = \"Position\",\n",
    "    range_x = [0,20],\n",
    "    range_y = [0,20],\n",
    "    color = \"Year\",\n",
    "    trendline=\"ols\",\n",
    "    trendline_scope= \"overall\"\n",
    ")\n",
    "fig_pos_scatter.show()"
   ]
  },
  {
   "cell_type": "markdown",
   "metadata": {},
   "source": [
    "# AREA AND LINE"
   ]
  },
  {
   "cell_type": "code",
   "execution_count": null,
   "metadata": {},
   "outputs": [],
   "source": [
    "# add option to choose x = position, gridposition, points\n",
    "\n",
    "all_options = [\"Points\", \"Position\", \"GridPosition\"]\n",
    "\n",
    "fig_season_progression = px.area(data_frame=driver_year_df, x=\"EventDate\", y=[\"Position\", \"GridPosition\"], range_y = [0,20], title=f\"Overview of {chosen_year} Season\")\n",
    "fig_season_progression.show()\n",
    "\n",
    "fig_overall_progression = px.line(data_frame=driver_df, x=\"EventDate\", y=[\"Position\", \"GridPosition\"], range_y = [0,20],  title=\"Overview 2018-2022\")\n",
    "fig_overall_progression.show()"
   ]
  },
  {
   "cell_type": "code",
   "execution_count": null,
   "metadata": {},
   "outputs": [],
   "source": [
    "twitter_feed = html.Iframe(srcDoc=''' <a class=\"twitter-timeline\" data-theme=\"dark\" href=\"https://twitter.com/Carlossainz55\"> Tweets by Carlos Sainz </a> \n",
    "            <script async src=\"https://platform.twitter.com/widgets.js\" charset=\"utf-8\"></script>''', height=800, width=300, id = \"twitter\")\n"
   ]
  },
  {
   "cell_type": "code",
   "execution_count": 1,
   "metadata": {},
   "outputs": [],
   "source": [
    "chosen_driver = \"Carlos Sainz\"\n",
    "import pandas as pd\n",
    "drivers = pd.read_csv('data/drivers.csv')"
   ]
  },
  {
   "cell_type": "code",
   "execution_count": 4,
   "metadata": {},
   "outputs": [
    {
     "data": {
      "text/plain": [
       "['au',\n",
       " 'be',\n",
       " 'br',\n",
       " 'ca',\n",
       " 'cn',\n",
       " 'de',\n",
       " 'dk',\n",
       " 'es',\n",
       " 'fi',\n",
       " 'fr',\n",
       " 'gb',\n",
       " 'it',\n",
       " 'jp',\n",
       " 'mc',\n",
       " 'mx',\n",
       " 'nl',\n",
       " 'nz',\n",
       " 'pl',\n",
       " 'ru',\n",
       " 'se',\n",
       " 'th']"
      ]
     },
     "execution_count": 4,
     "metadata": {},
     "output_type": "execute_result"
    }
   ],
   "source": [
    "sorted(drivers[\"FlagURL\"].unique())\n"
   ]
  },
  {
   "cell_type": "code",
   "execution_count": 23,
   "metadata": {},
   "outputs": [
    {
     "data": {
      "text/plain": [
       "'\"https://twitter.com/Carlossainz55\"'"
      ]
     },
     "execution_count": 23,
     "metadata": {},
     "output_type": "execute_result"
    }
   ],
   "source": [
    "twitter_url"
   ]
  },
  {
   "cell_type": "code",
   "execution_count": 27,
   "metadata": {},
   "outputs": [
    {
     "data": {
      "text/plain": [
       "'<a class=\"twitter-timeline\" data-theme=\"dark\" href=\"https://twitter.com/Carlossainz55\"> Tweets by Carlos Sainz </a> <script async src=\"https://platform.twitter.com/widgets.js\" charset=\"utf-8\"></script>'"
      ]
     },
     "execution_count": 27,
     "metadata": {},
     "output_type": "execute_result"
    }
   ],
   "source": [
    "twitter_link"
   ]
  }
 ],
 "metadata": {
  "kernelspec": {
   "display_name": "Python 3.9.12 ('base')",
   "language": "python",
   "name": "python3"
  },
  "language_info": {
   "codemirror_mode": {
    "name": "ipython",
    "version": 3
   },
   "file_extension": ".py",
   "mimetype": "text/x-python",
   "name": "python",
   "nbconvert_exporter": "python",
   "pygments_lexer": "ipython3",
   "version": "3.9.12"
  },
  "orig_nbformat": 4,
  "vscode": {
   "interpreter": {
    "hash": "6747bb82048fbb16b4d237852ae32c66d0832d9557fa02486c115d6b745bd4b6"
   }
  }
 },
 "nbformat": 4,
 "nbformat_minor": 2
}
