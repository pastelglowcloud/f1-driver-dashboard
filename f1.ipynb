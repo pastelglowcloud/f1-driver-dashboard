{
 "cells": [
  {
   "cell_type": "code",
   "execution_count": null,
   "metadata": {},
   "outputs": [],
   "source": [
    "race = input(\"Enter Name of Race: \")\n",
    "gp_chosen = schedule.get_event_by_name(race)\n",
    "name = gp_chosen['EventName']\n",
    "country = gp_chosen['Country']\n",
    "location = gp_chosen['Location']\n",
    "date = gp_chosen['EventDate'].to_pydatetime().date().strftime('%d-%m-%Y')\n",
    "print(f'The {name} took place on {date} in {location} in {country}')"
   ]
  },
  {
   "cell_type": "markdown",
   "metadata": {},
   "source": [
    "Who led each lap?"
   ]
  },
  {
   "cell_type": "markdown",
   "metadata": {},
   "source": [
    "What was the fastest lap and who led it?"
   ]
  },
  {
   "cell_type": "code",
   "execution_count": null,
   "metadata": {},
   "outputs": [],
   "source": [
    "fastest_lap = session.laps.pick_fastest()\n",
    "print(f\"The fastest lap was lap number {fastest_lap['LapNumber']} set by {fastest_lap['Driver']} at a time of {fastest_lap['LapTime']}\")"
   ]
  },
  {
   "cell_type": "code",
   "execution_count": null,
   "metadata": {},
   "outputs": [],
   "source": [
    "lap_numbers = list(set([i for i in session.laps.loc[:, ['LapNumber']]['LapNumber']]))"
   ]
  },
  {
   "cell_type": "code",
   "execution_count": null,
   "metadata": {},
   "outputs": [],
   "source": [
    "laps[\"LapTime\"!='NaT']"
   ]
  },
  {
   "cell_type": "code",
   "execution_count": null,
   "metadata": {},
   "outputs": [],
   "source": [
    "laps = session.laps[\"LapTime\"!='NaT']"
   ]
  },
  {
   "cell_type": "code",
   "execution_count": null,
   "metadata": {},
   "outputs": [],
   "source": [
    "idx = laps.groupby(['LapNumber'])['LapTime'].transform(min) == laps['LapTime']"
   ]
  },
  {
   "cell_type": "code",
   "execution_count": null,
   "metadata": {},
   "outputs": [],
   "source": [
    "laps.loc[laps.groupby([\"LapNumber\"])[\"LapTime\"].idxmax()]             "
   ]
  },
  {
   "cell_type": "code",
   "execution_count": null,
   "metadata": {},
   "outputs": [],
   "source": [
    "for i in lap_numbers:\n",
    "    current = session.laps.loc[session.laps['LapNumber']==i]\n",
    "    "
   ]
  },
  {
   "cell_type": "code",
   "execution_count": null,
   "metadata": {},
   "outputs": [],
   "source": [
    "session.laps.iloc[:].loc[:, ['Time','DriverNumber', 'LapTime', 'LapNumber', 'PitOutTime',\n",
    "       'PitInTime', 'SpeedI1', 'SpeedI2', 'SpeedFL', 'SpeedST', 'IsPersonalBest',\n",
    "       'Compound', 'TyreLife', 'FreshTyre', 'Stint', 'LapStartTime', 'Team',\n",
    "       'Driver', 'TrackStatus' ]]"
   ]
  },
  {
   "cell_type": "markdown",
   "metadata": {},
   "source": [
    "FROM DOCUMENTATION"
   ]
  },
  {
   "cell_type": "code",
   "execution_count": null,
   "metadata": {},
   "outputs": [],
   "source": [
    "driver = input('Enter Driver Code: ')\n",
    "session = fastf1.get_session(year, race, 'Race')\n",
    "\n",
    "session.load()\n",
    "fast_driver = session.laps.pick_driver(driver).pick_fastest()\n",
    "car_data = fast_driver.get_car_data()\n",
    "t = car_data['Time']\n",
    "vCar = car_data['Speed']\n",
    "lastname = session.get_driver(driver)['LastName']\n",
    "\n",
    "# The rest is just plotting\n",
    "fig, ax = plt.subplots()\n",
    "ax.plot(t, vCar, label='Fast')\n",
    "ax.set_xlabel('Time')\n",
    "ax.set_ylabel('Speed [Km/h]')\n",
    "ax.set_title(f\"{lastname}'s Speed\")\n",
    "ax.legend()\n",
    "plt.show()"
   ]
  },
  {
   "cell_type": "code",
   "execution_count": 1,
   "metadata": {},
   "outputs": [],
   "source": [
    "import plotly.express as px\n",
    "import pandas as pd\n",
    "df = pd.read_csv('races.csv')"
   ]
  },
  {
   "cell_type": "code",
   "execution_count": null,
   "metadata": {},
   "outputs": [],
   "source": [
    "def annual_point_bar(chosen_driver):\n",
    "    dff = df[df.LastName == \"chosen_driver\"]\n",
    "    fig = px.bar(dff, x=\"Year\", y = \"Points\", title=f\"Points by Season - {chosen_driver}\")\n",
    "    return fig"
   ]
  }
 ],
 "metadata": {
  "kernelspec": {
   "display_name": "Python 3.9.12 ('base')",
   "language": "python",
   "name": "python3"
  },
  "language_info": {
   "codemirror_mode": {
    "name": "ipython",
    "version": 3
   },
   "file_extension": ".py",
   "mimetype": "text/x-python",
   "name": "python",
   "nbconvert_exporter": "python",
   "pygments_lexer": "ipython3",
   "version": "3.9.12"
  },
  "orig_nbformat": 4,
  "vscode": {
   "interpreter": {
    "hash": "6747bb82048fbb16b4d237852ae32c66d0832d9557fa02486c115d6b745bd4b6"
   }
  }
 },
 "nbformat": 4,
 "nbformat_minor": 2
}
