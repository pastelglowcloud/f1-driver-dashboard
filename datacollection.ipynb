{
 "cells": [
  {
   "cell_type": "markdown",
   "metadata": {},
   "source": [
    "Set Up"
   ]
  },
  {
   "cell_type": "code",
   "execution_count": null,
   "metadata": {},
   "outputs": [],
   "source": [
    "# import packages and create cache folder for F1 data\n",
    "\n",
    "import fastf1\n",
    "fastf1.Cache.enable_cache('cache')  \n",
    "import pandas as pd\n",
    "import numpy as np\n",
    "\n",
    "# create race result dataframe\n",
    "\n",
    "historical_races = pd.DataFrame(columns= \n",
    "    ['Year', 'GP', 'DriverNumber', 'BroadcastName','Abbreviation', 'TeamName', \n",
    "    'TeamColor', 'FirstName', 'LastName','FullName', 'Position', 'GridPosition', \n",
    "    'Q1','Q2','Q3','Time', 'Status', 'Points'])\n",
    "\n",
    "# specify desired timeframe\n",
    "\n",
    "seasons_wanted = [2022, 2021, 2020, 2019, 2018]\n",
    "for year in seasons_wanted:\n",
    "    schedule = fastf1.get_event_schedule(year)\n",
    "    gp_list = [i for i in schedule['EventName'] if 'Grand' in i]\n",
    "    for gp in gp_list:\n",
    "        session = fastf1.get_session(year, gp, 'Race')\n",
    "        session.load()\n",
    "        temp_df = session.results\n",
    "        temp_df.insert(0,'Year','')\n",
    "        temp_df.insert(1,'GP','')\n",
    "        temp_df = temp_df.assign(Year=str(year))\n",
    "        temp_df = temp_df.assign(GP=str(gp))\n",
    "        historical_races = historical_races.append(temp_df, ignore_index=True)\n",
    "\n",
    "# create event detail dataframe\n",
    "\n",
    "all_events = pd.DataFrame(columns= \n",
    "    ['Year', 'RoundNumber', 'Country', 'Location', 'EventDate', 'EventName', 'EventFormat', \n",
    "    'Session1', 'Session1Date', 'Session2', 'Session2Date', 'Session3', 'Session3Date', 'Session4', \n",
    "    'Session4Date', 'Session5', 'Session5Date', 'F1ApiSupport'])\n",
    "for year in seasons_wanted:\n",
    "    schedule = fastf1.get_event_schedule(year=year)\n",
    "    schedule.insert(0,'Year','')\n",
    "    schedule = schedule.assign(Year=str(year))\n",
    "    all_events = pd.concat([all_events, schedule])\n",
    "\n",
    "\n",
    "# merge the two dataframes\n",
    "\n",
    "race_df = pd.merge(historical_races, all_events,  how='left', left_on=['Year','GP'], right_on = ['Year','EventName'])\n",
    "\n",
    "# create data buckets\n",
    "\n",
    "race_df['ResultType'] = np.where(race_df['Position']<= 3, 'Podium', 'Points')\n",
    "race_df['ResultType'] = np.where(race_df['Points']!=0, race_df['ResultType'], 'NoPoints')\n",
    "race_df['QualiStatus'] = \"Q3\"\n",
    "race_df['QualiStatus'] = np.where(race_df['GridPosition'] >= 15, 'Q2', race_df['QualiStatus'])\n",
    "race_df['QualiStatus'] = np.where(race_df['GridPosition'] >= 10, 'Q1', race_df['QualiStatus'])\n",
    "race_df['QualiStatus'] = np.where(race_df['GridPosition'] == 1, 'Pole', race_df['QualiStatus'])\n",
    "race_df['Counter'] = 1\n",
    "\n",
    "race_df[\"EventDate\"] = pd.to_datetime(race_df[\"EventDate\"])\n",
    "race_df[\"EventDate\"] = race_df[\"EventDate\"].dt.date \n",
    "race_df = race_df.sort_values(by=['EventDate']) \n",
    "\n",
    "race_df.to_csv('races.csv', index=False)"
   ]
  },
  {
   "cell_type": "markdown",
   "metadata": {},
   "source": [
    "Race Results"
   ]
  },
  {
   "cell_type": "markdown",
   "metadata": {},
   "source": [
    "Race Details"
   ]
  },
  {
   "cell_type": "markdown",
   "metadata": {},
   "source": [
    "explore"
   ]
  },
  {
   "cell_type": "code",
   "execution_count": null,
   "metadata": {},
   "outputs": [],
   "source": [
    "race = 'Singapore Grand Prix'\n",
    "year = 2018\n",
    "\n",
    "session = fastf1.get_session(year, race, 'Race')\n",
    "session.load()\n",
    "\n",
    "session.date\n",
    "\n",
    "session.session_status\n",
    "\n",
    "session.laps\n",
    "\n",
    "session.get_driver('SAI')\n",
    "\n",
    "session.car_data\n",
    "\n",
    "session.race_control_messages"
   ]
  }
 ],
 "metadata": {
  "kernelspec": {
   "display_name": "Python 3.9.12 ('base')",
   "language": "python",
   "name": "python3"
  },
  "language_info": {
   "codemirror_mode": {
    "name": "ipython",
    "version": 3
   },
   "file_extension": ".py",
   "mimetype": "text/x-python",
   "name": "python",
   "nbconvert_exporter": "python",
   "pygments_lexer": "ipython3",
   "version": "3.9.12"
  },
  "orig_nbformat": 4,
  "vscode": {
   "interpreter": {
    "hash": "6747bb82048fbb16b4d237852ae32c66d0832d9557fa02486c115d6b745bd4b6"
   }
  }
 },
 "nbformat": 4,
 "nbformat_minor": 2
}
